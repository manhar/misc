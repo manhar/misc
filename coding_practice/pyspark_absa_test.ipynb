{
 "cells": [
  {
   "cell_type": "code",
   "execution_count": 1,
   "metadata": {
    "collapsed": false,
    "deletable": true,
    "editable": true
   },
   "outputs": [
    {
     "name": "stdout",
     "output_type": "stream",
     "text": [
      "<class 'pandas.core.frame.DataFrame'>\n",
      "RangeIndex: 9 entries, 0 to 8\n",
      "Data columns (total 3 columns):\n",
      "ID        9 non-null int64\n",
      "date      9 non-null object\n",
      "status    9 non-null object\n",
      "dtypes: int64(1), object(2)\n",
      "memory usage: 296.0+ bytes\n"
     ]
    }
   ],
   "source": [
    "import pandas as pd\n",
    "\n",
    "data = pd.read_csv(\"test_data.csv\")\n",
    "\n",
    "data.info()\n"
   ]
  },
  {
   "cell_type": "code",
   "execution_count": null,
   "metadata": {
    "collapsed": true,
    "deletable": true,
    "editable": true
   },
   "outputs": [],
   "source": [
    "df=spark.read.csv(\"/user/ashish/datafile.csv\", header=True, dateFormat = 'YYYY-MM-DD')\n",
    "df.head()\n",
    "\n",
    "#register the a temp view \n",
    "df.createOrReplaceTempView(\"data\")\n",
    "\n",
    "spark.catalog.listTables()    \n",
    "\n",
    "#execute sql over dataframe table\n",
    "open_df=spark.sql(\"\"\" with open as (select ID , status, min(date) as date \n",
    "                      from data \n",
    "                      where data.status = 'open'\n",
    "                      group by 1,2),   \n",
    "                      \n",
    "                      close as (select ID, status, max(date) as date \n",
    "                      from data \n",
    "                      where data.status = 'close'\n",
    "                      group by 1,2)\n",
    "                      \n",
    "                      select open.ID, open.date as open_date, close.date as close_date , datediff(close.date , open.date) as days_open, datediff(close.date , open.date) * 0.5 as fees \n",
    "                      from open join close on open.ID=close.ID\n",
    "                      \n",
    "                      \"\"\").show()"
   ]
  }
 ],
 "metadata": {
  "kernelspec": {
   "display_name": "Python 3",
   "language": "python",
   "name": "python3"
  },
  "language_info": {
   "codemirror_mode": {
    "name": "ipython",
    "version": 3
   },
   "file_extension": ".py",
   "mimetype": "text/x-python",
   "name": "python",
   "nbconvert_exporter": "python",
   "pygments_lexer": "ipython3",
   "version": "3.5.3"
  }
 },
 "nbformat": 4,
 "nbformat_minor": 2
}
